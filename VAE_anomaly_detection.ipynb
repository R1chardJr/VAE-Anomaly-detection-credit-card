{
  "nbformat": 4,
  "nbformat_minor": 0,
  "metadata": {
    "colab": {
      "provenance": [],
      "collapsed_sections": [
        "AHS2YsZ0DGS_",
        "wl6GZp9QfFfi",
        "31ooqF-pfTDq",
        "ryDKaEojfNQA"
      ],
      "authorship_tag": "ABX9TyMk/YFgEsPpZcMu6Ax6++14",
      "include_colab_link": true
    },
    "kernelspec": {
      "name": "python3",
      "display_name": "Python 3"
    },
    "language_info": {
      "name": "python"
    }
  },
  "cells": [
    {
      "cell_type": "markdown",
      "metadata": {
        "id": "view-in-github",
        "colab_type": "text"
      },
      "source": [
        "<a href=\"https://colab.research.google.com/github/R1chardJr/VAE-Anomaly-detection-credit-card/blob/main/VAE_anomaly_detection.ipynb\" target=\"_parent\"><img src=\"https://colab.research.google.com/assets/colab-badge.svg\" alt=\"Open In Colab\"/></a>"
      ]
    },
    {
      "cell_type": "markdown",
      "source": [
        "# Introdução\n",
        "\n",
        "O crescimento das transações eletrônicas trouxe consigo o aumento de fraudes financeiras, o que exige soluções cada vez mais eficientes para detecção automática desses comportamentos anômalos. Uma das principais dificuldades neste cenário é o **forte desbalanceamento dos dados**, já que a quantidade de transações fraudulentas costuma ser extremamente pequena em relação às transações legítimas.\n",
        "\n",
        "Neste trabalho, aplicamos um **Autoencoder Variacional (VAE)** para abordar o problema como uma tarefa de **detecção de anomalias não supervisionada**. O VAE é um tipo de rede neural que aprende a codificar os dados em um espaço latente probabilístico e a reconstruí-los a partir desse espaço. Ao treinar o modelo apenas com transações legítimas (normais), ele aprende os padrões esperados dessas transações. Assim, durante a inferência, transações com alto erro de reconstrução são interpretadas como **potenciais fraudes**.\n",
        "\n",
        "A base de dados utilizada é a [Credit Card Fraud Detection](https://www.kaggle.com/datasets/mlg-ulb/creditcardfraud), composta por $284{,}807$ transações no total, sendo apenas $492$ fraudulentas — o que representa aproximadamente $0{,17\\%}$ dos dados. Este cenário realista e desbalanceado torna a abordagem com VAE especialmente adequada, pois o modelo pode se concentrar em aprender o comportamento normal e detectar desvios de padrão sem a necessidade de rótulos extensivos.\n"
      ],
      "metadata": {
        "id": "AHS2YsZ0DGS_"
      }
    },
    {
      "cell_type": "code",
      "execution_count": null,
      "metadata": {
        "id": "bTeeddgUqSR0"
      },
      "outputs": [],
      "source": [
        "import kagglehub\n",
        "from kagglehub import KaggleDatasetAdapter\n",
        "import pandas as pd\n",
        "import numpy as np\n",
        "import seaborn as sns\n",
        "import matplotlib.pyplot as plt\n",
        "from sklearn.preprocessing import StandardScaler\n",
        "from sklearn.model_selection import train_test_split\n",
        "from sklearn.decomposition import PCA\n",
        "from sklearn.metrics import confusion_matrix, classification_report\n",
        "from sklearn.metrics import precision_recall_curve\n",
        "import tensorflow as tf\n",
        "import keras\n",
        "from keras import ops\n",
        "from keras import layers"
      ]
    },
    {
      "cell_type": "markdown",
      "source": [
        "# Analisando a base de dados"
      ],
      "metadata": {
        "id": "wl6GZp9QfFfi"
      }
    },
    {
      "cell_type": "markdown",
      "source": [
        "Baixando o dataset direto do Kaggle"
      ],
      "metadata": {
        "id": "T9PzABxmF01A"
      }
    },
    {
      "cell_type": "code",
      "source": [
        "file_path = \"creditcard.csv\"\n",
        "df = kagglehub.load_dataset(\n",
        "  KaggleDatasetAdapter.PANDAS,\n",
        "  \"mlg-ulb/creditcardfraud\",\n",
        "  file_path,)\n"
      ],
      "metadata": {
        "colab": {
          "base_uri": "https://localhost:8080/"
        },
        "id": "JmPYtyyUqa2W",
        "outputId": "ae4e54e3-e84d-4637-e71a-38d798d51b5e",
        "collapsed": true
      },
      "execution_count": null,
      "outputs": [
        {
          "output_type": "stream",
          "name": "stderr",
          "text": [
            "/tmp/ipython-input-11-3099592422.py:2: DeprecationWarning: load_dataset is deprecated and will be removed in a future version.\n",
            "  df = kagglehub.load_dataset(\n"
          ]
        }
      ]
    },
    {
      "cell_type": "code",
      "source": [
        "df.head()"
      ],
      "metadata": {
        "colab": {
          "base_uri": "https://localhost:8080/",
          "height": 255
        },
        "id": "Q7GiephsqbHr",
        "outputId": "e8201120-2b6d-4edf-c3f6-db5c7a41421c"
      },
      "execution_count": null,
      "outputs": [
        {
          "output_type": "execute_result",
          "data": {
            "text/plain": [
              "   Time        V1        V2        V3        V4        V5        V6        V7  \\\n",
              "0   0.0 -1.359807 -0.072781  2.536347  1.378155 -0.338321  0.462388  0.239599   \n",
              "1   0.0  1.191857  0.266151  0.166480  0.448154  0.060018 -0.082361 -0.078803   \n",
              "2   1.0 -1.358354 -1.340163  1.773209  0.379780 -0.503198  1.800499  0.791461   \n",
              "3   1.0 -0.966272 -0.185226  1.792993 -0.863291 -0.010309  1.247203  0.237609   \n",
              "4   2.0 -1.158233  0.877737  1.548718  0.403034 -0.407193  0.095921  0.592941   \n",
              "\n",
              "         V8        V9  ...       V21       V22       V23       V24       V25  \\\n",
              "0  0.098698  0.363787  ... -0.018307  0.277838 -0.110474  0.066928  0.128539   \n",
              "1  0.085102 -0.255425  ... -0.225775 -0.638672  0.101288 -0.339846  0.167170   \n",
              "2  0.247676 -1.514654  ...  0.247998  0.771679  0.909412 -0.689281 -0.327642   \n",
              "3  0.377436 -1.387024  ... -0.108300  0.005274 -0.190321 -1.175575  0.647376   \n",
              "4 -0.270533  0.817739  ... -0.009431  0.798278 -0.137458  0.141267 -0.206010   \n",
              "\n",
              "        V26       V27       V28  Amount  Class  \n",
              "0 -0.189115  0.133558 -0.021053  149.62      0  \n",
              "1  0.125895 -0.008983  0.014724    2.69      0  \n",
              "2 -0.139097 -0.055353 -0.059752  378.66      0  \n",
              "3 -0.221929  0.062723  0.061458  123.50      0  \n",
              "4  0.502292  0.219422  0.215153   69.99      0  \n",
              "\n",
              "[5 rows x 31 columns]"
            ],
            "text/html": [
              "\n",
              "  <div id=\"df-1f6439aa-f6ad-4777-b98d-39e826791da3\" class=\"colab-df-container\">\n",
              "    <div>\n",
              "<style scoped>\n",
              "    .dataframe tbody tr th:only-of-type {\n",
              "        vertical-align: middle;\n",
              "    }\n",
              "\n",
              "    .dataframe tbody tr th {\n",
              "        vertical-align: top;\n",
              "    }\n",
              "\n",
              "    .dataframe thead th {\n",
              "        text-align: right;\n",
              "    }\n",
              "</style>\n",
              "<table border=\"1\" class=\"dataframe\">\n",
              "  <thead>\n",
              "    <tr style=\"text-align: right;\">\n",
              "      <th></th>\n",
              "      <th>Time</th>\n",
              "      <th>V1</th>\n",
              "      <th>V2</th>\n",
              "      <th>V3</th>\n",
              "      <th>V4</th>\n",
              "      <th>V5</th>\n",
              "      <th>V6</th>\n",
              "      <th>V7</th>\n",
              "      <th>V8</th>\n",
              "      <th>V9</th>\n",
              "      <th>...</th>\n",
              "      <th>V21</th>\n",
              "      <th>V22</th>\n",
              "      <th>V23</th>\n",
              "      <th>V24</th>\n",
              "      <th>V25</th>\n",
              "      <th>V26</th>\n",
              "      <th>V27</th>\n",
              "      <th>V28</th>\n",
              "      <th>Amount</th>\n",
              "      <th>Class</th>\n",
              "    </tr>\n",
              "  </thead>\n",
              "  <tbody>\n",
              "    <tr>\n",
              "      <th>0</th>\n",
              "      <td>0.0</td>\n",
              "      <td>-1.359807</td>\n",
              "      <td>-0.072781</td>\n",
              "      <td>2.536347</td>\n",
              "      <td>1.378155</td>\n",
              "      <td>-0.338321</td>\n",
              "      <td>0.462388</td>\n",
              "      <td>0.239599</td>\n",
              "      <td>0.098698</td>\n",
              "      <td>0.363787</td>\n",
              "      <td>...</td>\n",
              "      <td>-0.018307</td>\n",
              "      <td>0.277838</td>\n",
              "      <td>-0.110474</td>\n",
              "      <td>0.066928</td>\n",
              "      <td>0.128539</td>\n",
              "      <td>-0.189115</td>\n",
              "      <td>0.133558</td>\n",
              "      <td>-0.021053</td>\n",
              "      <td>149.62</td>\n",
              "      <td>0</td>\n",
              "    </tr>\n",
              "    <tr>\n",
              "      <th>1</th>\n",
              "      <td>0.0</td>\n",
              "      <td>1.191857</td>\n",
              "      <td>0.266151</td>\n",
              "      <td>0.166480</td>\n",
              "      <td>0.448154</td>\n",
              "      <td>0.060018</td>\n",
              "      <td>-0.082361</td>\n",
              "      <td>-0.078803</td>\n",
              "      <td>0.085102</td>\n",
              "      <td>-0.255425</td>\n",
              "      <td>...</td>\n",
              "      <td>-0.225775</td>\n",
              "      <td>-0.638672</td>\n",
              "      <td>0.101288</td>\n",
              "      <td>-0.339846</td>\n",
              "      <td>0.167170</td>\n",
              "      <td>0.125895</td>\n",
              "      <td>-0.008983</td>\n",
              "      <td>0.014724</td>\n",
              "      <td>2.69</td>\n",
              "      <td>0</td>\n",
              "    </tr>\n",
              "    <tr>\n",
              "      <th>2</th>\n",
              "      <td>1.0</td>\n",
              "      <td>-1.358354</td>\n",
              "      <td>-1.340163</td>\n",
              "      <td>1.773209</td>\n",
              "      <td>0.379780</td>\n",
              "      <td>-0.503198</td>\n",
              "      <td>1.800499</td>\n",
              "      <td>0.791461</td>\n",
              "      <td>0.247676</td>\n",
              "      <td>-1.514654</td>\n",
              "      <td>...</td>\n",
              "      <td>0.247998</td>\n",
              "      <td>0.771679</td>\n",
              "      <td>0.909412</td>\n",
              "      <td>-0.689281</td>\n",
              "      <td>-0.327642</td>\n",
              "      <td>-0.139097</td>\n",
              "      <td>-0.055353</td>\n",
              "      <td>-0.059752</td>\n",
              "      <td>378.66</td>\n",
              "      <td>0</td>\n",
              "    </tr>\n",
              "    <tr>\n",
              "      <th>3</th>\n",
              "      <td>1.0</td>\n",
              "      <td>-0.966272</td>\n",
              "      <td>-0.185226</td>\n",
              "      <td>1.792993</td>\n",
              "      <td>-0.863291</td>\n",
              "      <td>-0.010309</td>\n",
              "      <td>1.247203</td>\n",
              "      <td>0.237609</td>\n",
              "      <td>0.377436</td>\n",
              "      <td>-1.387024</td>\n",
              "      <td>...</td>\n",
              "      <td>-0.108300</td>\n",
              "      <td>0.005274</td>\n",
              "      <td>-0.190321</td>\n",
              "      <td>-1.175575</td>\n",
              "      <td>0.647376</td>\n",
              "      <td>-0.221929</td>\n",
              "      <td>0.062723</td>\n",
              "      <td>0.061458</td>\n",
              "      <td>123.50</td>\n",
              "      <td>0</td>\n",
              "    </tr>\n",
              "    <tr>\n",
              "      <th>4</th>\n",
              "      <td>2.0</td>\n",
              "      <td>-1.158233</td>\n",
              "      <td>0.877737</td>\n",
              "      <td>1.548718</td>\n",
              "      <td>0.403034</td>\n",
              "      <td>-0.407193</td>\n",
              "      <td>0.095921</td>\n",
              "      <td>0.592941</td>\n",
              "      <td>-0.270533</td>\n",
              "      <td>0.817739</td>\n",
              "      <td>...</td>\n",
              "      <td>-0.009431</td>\n",
              "      <td>0.798278</td>\n",
              "      <td>-0.137458</td>\n",
              "      <td>0.141267</td>\n",
              "      <td>-0.206010</td>\n",
              "      <td>0.502292</td>\n",
              "      <td>0.219422</td>\n",
              "      <td>0.215153</td>\n",
              "      <td>69.99</td>\n",
              "      <td>0</td>\n",
              "    </tr>\n",
              "  </tbody>\n",
              "</table>\n",
              "<p>5 rows × 31 columns</p>\n",
              "</div>\n",
              "    <div class=\"colab-df-buttons\">\n",
              "\n",
              "  <div class=\"colab-df-container\">\n",
              "    <button class=\"colab-df-convert\" onclick=\"convertToInteractive('df-1f6439aa-f6ad-4777-b98d-39e826791da3')\"\n",
              "            title=\"Convert this dataframe to an interactive table.\"\n",
              "            style=\"display:none;\">\n",
              "\n",
              "  <svg xmlns=\"http://www.w3.org/2000/svg\" height=\"24px\" viewBox=\"0 -960 960 960\">\n",
              "    <path d=\"M120-120v-720h720v720H120Zm60-500h600v-160H180v160Zm220 220h160v-160H400v160Zm0 220h160v-160H400v160ZM180-400h160v-160H180v160Zm440 0h160v-160H620v160ZM180-180h160v-160H180v160Zm440 0h160v-160H620v160Z\"/>\n",
              "  </svg>\n",
              "    </button>\n",
              "\n",
              "  <style>\n",
              "    .colab-df-container {\n",
              "      display:flex;\n",
              "      gap: 12px;\n",
              "    }\n",
              "\n",
              "    .colab-df-convert {\n",
              "      background-color: #E8F0FE;\n",
              "      border: none;\n",
              "      border-radius: 50%;\n",
              "      cursor: pointer;\n",
              "      display: none;\n",
              "      fill: #1967D2;\n",
              "      height: 32px;\n",
              "      padding: 0 0 0 0;\n",
              "      width: 32px;\n",
              "    }\n",
              "\n",
              "    .colab-df-convert:hover {\n",
              "      background-color: #E2EBFA;\n",
              "      box-shadow: 0px 1px 2px rgba(60, 64, 67, 0.3), 0px 1px 3px 1px rgba(60, 64, 67, 0.15);\n",
              "      fill: #174EA6;\n",
              "    }\n",
              "\n",
              "    .colab-df-buttons div {\n",
              "      margin-bottom: 4px;\n",
              "    }\n",
              "\n",
              "    [theme=dark] .colab-df-convert {\n",
              "      background-color: #3B4455;\n",
              "      fill: #D2E3FC;\n",
              "    }\n",
              "\n",
              "    [theme=dark] .colab-df-convert:hover {\n",
              "      background-color: #434B5C;\n",
              "      box-shadow: 0px 1px 3px 1px rgba(0, 0, 0, 0.15);\n",
              "      filter: drop-shadow(0px 1px 2px rgba(0, 0, 0, 0.3));\n",
              "      fill: #FFFFFF;\n",
              "    }\n",
              "  </style>\n",
              "\n",
              "    <script>\n",
              "      const buttonEl =\n",
              "        document.querySelector('#df-1f6439aa-f6ad-4777-b98d-39e826791da3 button.colab-df-convert');\n",
              "      buttonEl.style.display =\n",
              "        google.colab.kernel.accessAllowed ? 'block' : 'none';\n",
              "\n",
              "      async function convertToInteractive(key) {\n",
              "        const element = document.querySelector('#df-1f6439aa-f6ad-4777-b98d-39e826791da3');\n",
              "        const dataTable =\n",
              "          await google.colab.kernel.invokeFunction('convertToInteractive',\n",
              "                                                    [key], {});\n",
              "        if (!dataTable) return;\n",
              "\n",
              "        const docLinkHtml = 'Like what you see? Visit the ' +\n",
              "          '<a target=\"_blank\" href=https://colab.research.google.com/notebooks/data_table.ipynb>data table notebook</a>'\n",
              "          + ' to learn more about interactive tables.';\n",
              "        element.innerHTML = '';\n",
              "        dataTable['output_type'] = 'display_data';\n",
              "        await google.colab.output.renderOutput(dataTable, element);\n",
              "        const docLink = document.createElement('div');\n",
              "        docLink.innerHTML = docLinkHtml;\n",
              "        element.appendChild(docLink);\n",
              "      }\n",
              "    </script>\n",
              "  </div>\n",
              "\n",
              "\n",
              "    <div id=\"df-766b3b03-01f5-488f-9e54-1eea2ad6105c\">\n",
              "      <button class=\"colab-df-quickchart\" onclick=\"quickchart('df-766b3b03-01f5-488f-9e54-1eea2ad6105c')\"\n",
              "                title=\"Suggest charts\"\n",
              "                style=\"display:none;\">\n",
              "\n",
              "<svg xmlns=\"http://www.w3.org/2000/svg\" height=\"24px\"viewBox=\"0 0 24 24\"\n",
              "     width=\"24px\">\n",
              "    <g>\n",
              "        <path d=\"M19 3H5c-1.1 0-2 .9-2 2v14c0 1.1.9 2 2 2h14c1.1 0 2-.9 2-2V5c0-1.1-.9-2-2-2zM9 17H7v-7h2v7zm4 0h-2V7h2v10zm4 0h-2v-4h2v4z\"/>\n",
              "    </g>\n",
              "</svg>\n",
              "      </button>\n",
              "\n",
              "<style>\n",
              "  .colab-df-quickchart {\n",
              "      --bg-color: #E8F0FE;\n",
              "      --fill-color: #1967D2;\n",
              "      --hover-bg-color: #E2EBFA;\n",
              "      --hover-fill-color: #174EA6;\n",
              "      --disabled-fill-color: #AAA;\n",
              "      --disabled-bg-color: #DDD;\n",
              "  }\n",
              "\n",
              "  [theme=dark] .colab-df-quickchart {\n",
              "      --bg-color: #3B4455;\n",
              "      --fill-color: #D2E3FC;\n",
              "      --hover-bg-color: #434B5C;\n",
              "      --hover-fill-color: #FFFFFF;\n",
              "      --disabled-bg-color: #3B4455;\n",
              "      --disabled-fill-color: #666;\n",
              "  }\n",
              "\n",
              "  .colab-df-quickchart {\n",
              "    background-color: var(--bg-color);\n",
              "    border: none;\n",
              "    border-radius: 50%;\n",
              "    cursor: pointer;\n",
              "    display: none;\n",
              "    fill: var(--fill-color);\n",
              "    height: 32px;\n",
              "    padding: 0;\n",
              "    width: 32px;\n",
              "  }\n",
              "\n",
              "  .colab-df-quickchart:hover {\n",
              "    background-color: var(--hover-bg-color);\n",
              "    box-shadow: 0 1px 2px rgba(60, 64, 67, 0.3), 0 1px 3px 1px rgba(60, 64, 67, 0.15);\n",
              "    fill: var(--button-hover-fill-color);\n",
              "  }\n",
              "\n",
              "  .colab-df-quickchart-complete:disabled,\n",
              "  .colab-df-quickchart-complete:disabled:hover {\n",
              "    background-color: var(--disabled-bg-color);\n",
              "    fill: var(--disabled-fill-color);\n",
              "    box-shadow: none;\n",
              "  }\n",
              "\n",
              "  .colab-df-spinner {\n",
              "    border: 2px solid var(--fill-color);\n",
              "    border-color: transparent;\n",
              "    border-bottom-color: var(--fill-color);\n",
              "    animation:\n",
              "      spin 1s steps(1) infinite;\n",
              "  }\n",
              "\n",
              "  @keyframes spin {\n",
              "    0% {\n",
              "      border-color: transparent;\n",
              "      border-bottom-color: var(--fill-color);\n",
              "      border-left-color: var(--fill-color);\n",
              "    }\n",
              "    20% {\n",
              "      border-color: transparent;\n",
              "      border-left-color: var(--fill-color);\n",
              "      border-top-color: var(--fill-color);\n",
              "    }\n",
              "    30% {\n",
              "      border-color: transparent;\n",
              "      border-left-color: var(--fill-color);\n",
              "      border-top-color: var(--fill-color);\n",
              "      border-right-color: var(--fill-color);\n",
              "    }\n",
              "    40% {\n",
              "      border-color: transparent;\n",
              "      border-right-color: var(--fill-color);\n",
              "      border-top-color: var(--fill-color);\n",
              "    }\n",
              "    60% {\n",
              "      border-color: transparent;\n",
              "      border-right-color: var(--fill-color);\n",
              "    }\n",
              "    80% {\n",
              "      border-color: transparent;\n",
              "      border-right-color: var(--fill-color);\n",
              "      border-bottom-color: var(--fill-color);\n",
              "    }\n",
              "    90% {\n",
              "      border-color: transparent;\n",
              "      border-bottom-color: var(--fill-color);\n",
              "    }\n",
              "  }\n",
              "</style>\n",
              "\n",
              "      <script>\n",
              "        async function quickchart(key) {\n",
              "          const quickchartButtonEl =\n",
              "            document.querySelector('#' + key + ' button');\n",
              "          quickchartButtonEl.disabled = true;  // To prevent multiple clicks.\n",
              "          quickchartButtonEl.classList.add('colab-df-spinner');\n",
              "          try {\n",
              "            const charts = await google.colab.kernel.invokeFunction(\n",
              "                'suggestCharts', [key], {});\n",
              "          } catch (error) {\n",
              "            console.error('Error during call to suggestCharts:', error);\n",
              "          }\n",
              "          quickchartButtonEl.classList.remove('colab-df-spinner');\n",
              "          quickchartButtonEl.classList.add('colab-df-quickchart-complete');\n",
              "        }\n",
              "        (() => {\n",
              "          let quickchartButtonEl =\n",
              "            document.querySelector('#df-766b3b03-01f5-488f-9e54-1eea2ad6105c button');\n",
              "          quickchartButtonEl.style.display =\n",
              "            google.colab.kernel.accessAllowed ? 'block' : 'none';\n",
              "        })();\n",
              "      </script>\n",
              "    </div>\n",
              "\n",
              "    </div>\n",
              "  </div>\n"
            ],
            "application/vnd.google.colaboratory.intrinsic+json": {
              "type": "dataframe",
              "variable_name": "df"
            }
          },
          "metadata": {},
          "execution_count": 12
        }
      ]
    },
    {
      "cell_type": "code",
      "source": [
        "df.isnull().sum().max()"
      ],
      "metadata": {
        "colab": {
          "base_uri": "https://localhost:8080/"
        },
        "id": "mMQV7u6FfCI_",
        "outputId": "034ed180-ba03-4183-84ef-be4db9fbecb3"
      },
      "execution_count": null,
      "outputs": [
        {
          "output_type": "execute_result",
          "data": {
            "text/plain": [
              "0"
            ]
          },
          "metadata": {},
          "execution_count": 13
        }
      ]
    },
    {
      "cell_type": "markdown",
      "source": [
        "Com isso, vemos que não há dados nulos na base de dados, então não precisamos se preocupar com essa questão"
      ],
      "metadata": {
        "id": "RAfzSI-TDcc8"
      }
    },
    {
      "cell_type": "code",
      "source": [
        "plt.figure(figsize=(8, 5))\n",
        "ax = sns.countplot(x=\"Class\", data=df)\n",
        "plt.yscale(\"log\")\n",
        "plt.title(\"Class Distribution (0: Normal, 1: Fraud)\")\n",
        "plt.xlabel(\"Class\")\n",
        "plt.ylabel(\"Count (log scale)\")\n",
        "\n",
        "# Adiciona os valores absolutos acima de cada barra\n",
        "for p in ax.patches:\n",
        "    height = p.get_height()\n",
        "    ax.annotate(f'{int(height)}',\n",
        "                (p.get_x() + p.get_width() / 2., height),\n",
        "                ha='center', va='bottom', fontsize=10)\n",
        "\n",
        "plt.tight_layout()\n",
        "plt.show()"
      ],
      "metadata": {
        "colab": {
          "base_uri": "https://localhost:8080/",
          "height": 507
        },
        "id": "4Ohb-s0lEDyH",
        "outputId": "9a3e9dcf-e0bf-42a3-b3c8-948544069199"
      },
      "execution_count": null,
      "outputs": [
        {
          "output_type": "display_data",
          "data": {
            "text/plain": [
              "<Figure size 800x500 with 1 Axes>"
            ],
            "image/png": "[encoded data removed]"
          },
          "metadata": {}
        }
      ]
    },
    {
      "cell_type": "markdown",
      "source": [
        "Por meio do é possível ver o grande desbalanceamento que existe entre as classes (284K vs 492)"
      ],
      "metadata": {
        "id": "bzr5Uf3dFRHG"
      }
    },
    {
      "cell_type": "markdown",
      "source": [
        "# Tratamento da Base"
      ],
      "metadata": {
        "id": "31ooqF-pfTDq"
      }
    },
    {
      "cell_type": "markdown",
      "source": [
        "Aplicando um processo de normalizaçao nas colunas 'Amount' e 'Time'"
      ],
      "metadata": {
        "id": "_0tGEnkiegUG"
      }
    },
    {
      "cell_type": "code",
      "source": [
        "scaler = StandardScaler()\n",
        "df['scaled_Amount'] = scaler.fit_transform(df['Amount'].values.reshape(-1, 1))\n",
        "df['scaled_Time'] = scaler.fit_transform(df['Time'].values.reshape(-1, 1))\n",
        "\n",
        "df = df.drop(['Time', 'Amount'], axis=1)"
      ],
      "metadata": {
        "id": "zzEi8AhcrfOZ"
      },
      "execution_count": null,
      "outputs": []
    },
    {
      "cell_type": "markdown",
      "source": [
        "Para treinar o modelo usaremos apenas as transações legítimas, ocultando as fraudes do modelo"
      ],
      "metadata": {
        "id": "ihQHJmYtiu7N"
      }
    },
    {
      "cell_type": "code",
      "source": [
        "normal_df = df[df['Class'] == 0]\n",
        "fraud_df = df[df['Class'] == 1]\n",
        "\n",
        "X_normal = normal_df.drop('Class', axis=1)\n",
        "X_fraud = fraud_df.drop('Class', axis=1)"
      ],
      "metadata": {
        "id": "akhGMIA8_mc3"
      },
      "execution_count": null,
      "outputs": []
    },
    {
      "cell_type": "markdown",
      "source": [
        "Dividindo em treino e teste a base, lembrando que usamos apenas as transações não fraudulentas para o treino"
      ],
      "metadata": {
        "id": "XVGWX8hbjGDP"
      }
    },
    {
      "cell_type": "code",
      "source": [
        "X_train, X_val = train_test_split(X_normal, test_size=0.2, random_state=42)"
      ],
      "metadata": {
        "id": "hqQYBn3yjD_d"
      },
      "execution_count": null,
      "outputs": []
    },
    {
      "cell_type": "markdown",
      "source": [
        "#Iniciando a modelagem do VAE"
      ],
      "metadata": {
        "id": "ryDKaEojfNQA"
      }
    },
    {
      "cell_type": "markdown",
      "source": [
        "Para resolver esse problema será utilizado um Autoencoder Variacional(VAE). O modelo foi montado baseado no código disponibilizado em https://keras.io/examples/generative/vae/ que é a página oficial do keras, a partir dele foram feitas adaptaçoes para esse dataset e para melhorar o modelo"
      ],
      "metadata": {
        "id": "dEPizx4a6Jy5"
      }
    },
    {
      "cell_type": "markdown",
      "source": [
        "Criando a camada latente do VAE"
      ],
      "metadata": {
        "id": "7RqumBljKGC1"
      }
    },
    {
      "cell_type": "code",
      "source": [
        "\n",
        "class Sampling(layers.Layer):\n",
        "    \"\"\"Uses (z_mean, z_log_var) to sample z, the vector encoding a digit.\"\"\"\n",
        "\n",
        "    def __init__(self, **kwargs):\n",
        "        super().__init__(**kwargs)\n",
        "        self.seed_generator = keras.random.SeedGenerator(1337)\n",
        "\n",
        "    def call(self, inputs):\n",
        "        z_mean, z_log_var = inputs\n",
        "        batch = ops.shape(z_mean)[0]\n",
        "        dim = ops.shape(z_mean)[1]\n",
        "        epsilon = keras.random.normal(shape=(batch, dim), seed=self.seed_generator)\n",
        "        return z_mean + ops.exp(0.5 * z_log_var) * epsilon\n"
      ],
      "metadata": {
        "id": "3lxjlSi3gEkN"
      },
      "execution_count": null,
      "outputs": []
    },
    {
      "cell_type": "markdown",
      "source": [
        "Criando a parte do Encoder"
      ],
      "metadata": {
        "id": "VIRwibCjKP-x"
      }
    },
    {
      "cell_type": "code",
      "source": [
        "latent_dim = 16\n",
        "n_features = 30\n",
        "\n",
        "#ENCODER\n",
        "encoder_inputs = keras.Input(shape=(n_features,))\n",
        "x = layers.Dense(64, activation=\"relu\")(encoder_inputs)\n",
        "x = layers.Dense(32, activation=\"relu\")(x)\n",
        "\n",
        "z_mean = layers.Dense(latent_dim, name=\"z_mean\")(x)\n",
        "z_log_var = layers.Dense(latent_dim, name=\"z_log_var\")(x)\n",
        "z = Sampling()([z_mean, z_log_var])\n",
        "\n",
        "encoder = keras.Model(encoder_inputs, [z_mean, z_log_var, z], name=\"encoder\")\n",
        "encoder.summary()"
      ],
      "metadata": {
        "colab": {
          "base_uri": "https://localhost:8080/",
          "height": 353
        },
        "id": "ubjaDLDGKmLO",
        "outputId": "ecf76097-c58f-4a1e-f2c3-aa3f818e6257"
      },
      "execution_count": null,
      "outputs": [
        {
          "output_type": "display_data",
          "data": {
            "text/plain": [
              "\u001b[1mModel: \"encoder\"\u001b[0m\n"
            ],
            "text/html": [
              "<pre style=\"white-space:pre;overflow-x:auto;line-height:normal;font-family:Menlo,'DejaVu Sans Mono',consolas,'Courier New',monospace\"><span style=\"font-weight: bold\">Model: \"encoder\"</span>\n",
              "</pre>\n"
            ]
          },
          "metadata": {}
        },
        {
          "output_type": "display_data",
          "data": {
            "text/plain": [
              "┏━━━━━━━━━━━━━━━━━━━━━┳━━━━━━━━━━━━━━━━━━━┳━━━━━━━━━━━━┳━━━━━━━━━━━━━━━━━━━┓\n",
              "┃\u001b[1m \u001b[0m\u001b[1mLayer (type)       \u001b[0m\u001b[1m \u001b[0m┃\u001b[1m \u001b[0m\u001b[1mOutput Shape     \u001b[0m\u001b[1m \u001b[0m┃\u001b[1m \u001b[0m\u001b[1m   Param #\u001b[0m\u001b[1m \u001b[0m┃\u001b[1m \u001b[0m\u001b[1mConnected to     \u001b[0m\u001b[1m \u001b[0m┃\n",
              "┡━━━━━━━━━━━━━━━━━━━━━╇━━━━━━━━━━━━━━━━━━━╇━━━━━━━━━━━━╇━━━━━━━━━━━━━━━━━━━┩\n",
              "│ input_layer         │ (\u001b[38;5;45mNone\u001b[0m, \u001b[38;5;34m30\u001b[0m)        │          \u001b[38;5;34m0\u001b[0m │ -                 │\n",
              "│ (\u001b[38;5;33mInputLayer\u001b[0m)        │                   │            │                   │\n",
              "├─────────────────────┼───────────────────┼────────────┼───────────────────┤\n",
              "│ dense (\u001b[38;5;33mDense\u001b[0m)       │ (\u001b[38;5;45mNone\u001b[0m, \u001b[38;5;34m64\u001b[0m)        │      \u001b[38;5;34m1,984\u001b[0m │ input_layer[\u001b[38;5;34m0\u001b[0m][\u001b[38;5;34m0\u001b[0m] │\n",
              "├─────────────────────┼───────────────────┼────────────┼───────────────────┤\n",
              "│ dense_1 (\u001b[38;5;33mDense\u001b[0m)     │ (\u001b[38;5;45mNone\u001b[0m, \u001b[38;5;34m32\u001b[0m)        │      \u001b[38;5;34m2,080\u001b[0m │ dense[\u001b[38;5;34m0\u001b[0m][\u001b[38;5;34m0\u001b[0m]       │\n",
              "├─────────────────────┼───────────────────┼────────────┼───────────────────┤\n",
              "│ z_mean (\u001b[38;5;33mDense\u001b[0m)      │ (\u001b[38;5;45mNone\u001b[0m, \u001b[38;5;34m16\u001b[0m)        │        \u001b[38;5;34m528\u001b[0m │ dense_1[\u001b[38;5;34m0\u001b[0m][\u001b[38;5;34m0\u001b[0m]     │\n",
              "├─────────────────────┼───────────────────┼────────────┼───────────────────┤\n",
              "│ z_log_var (\u001b[38;5;33mDense\u001b[0m)   │ (\u001b[38;5;45mNone\u001b[0m, \u001b[38;5;34m16\u001b[0m)        │        \u001b[38;5;34m528\u001b[0m │ dense_1[\u001b[38;5;34m0\u001b[0m][\u001b[38;5;34m0\u001b[0m]     │\n",
              "├─────────────────────┼───────────────────┼────────────┼───────────────────┤\n",
              "│ sampling (\u001b[38;5;33mSampling\u001b[0m) │ (\u001b[38;5;45mNone\u001b[0m, \u001b[38;5;34m16\u001b[0m)        │          \u001b[38;5;34m0\u001b[0m │ z_mean[\u001b[38;5;34m0\u001b[0m][\u001b[38;5;34m0\u001b[0m],     │\n",
              "│                     │                   │            │ z_log_var[\u001b[38;5;34m0\u001b[0m][\u001b[38;5;34m0\u001b[0m]   │\n",
              "└─────────────────────┴───────────────────┴────────────┴───────────────────┘\n"
            ],
            "text/html": [
              "<pre style=\"white-space:pre;overflow-x:auto;line-height:normal;font-family:Menlo,'DejaVu Sans Mono',consolas,'Courier New',monospace\">┏━━━━━━━━━━━━━━━━━━━━━┳━━━━━━━━━━━━━━━━━━━┳━━━━━━━━━━━━┳━━━━━━━━━━━━━━━━━━━┓\n",
              "┃<span style=\"font-weight: bold\"> Layer (type)        </span>┃<span style=\"font-weight: bold\"> Output Shape      </span>┃<span style=\"font-weight: bold\">    Param # </span>┃<span style=\"font-weight: bold\"> Connected to      </span>┃\n",
              "┡━━━━━━━━━━━━━━━━━━━━━╇━━━━━━━━━━━━━━━━━━━╇━━━━━━━━━━━━╇━━━━━━━━━━━━━━━━━━━┩\n",
              "│ input_layer         │ (<span style=\"color: #00d7ff; text-decoration-color: #00d7ff\">None</span>, <span style=\"color: #00af00; text-decoration-color: #00af00\">30</span>)        │          <span style=\"color: #00af00; text-decoration-color: #00af00\">0</span> │ -                 │\n",
              "│ (<span style=\"color: #0087ff; text-decoration-color: #0087ff\">InputLayer</span>)        │                   │            │                   │\n",
              "├─────────────────────┼───────────────────┼────────────┼───────────────────┤\n",
              "│ dense (<span style=\"color: #0087ff; text-decoration-color: #0087ff\">Dense</span>)       │ (<span style=\"color: #00d7ff; text-decoration-color: #00d7ff\">None</span>, <span style=\"color: #00af00; text-decoration-color: #00af00\">64</span>)        │      <span style=\"color: #00af00; text-decoration-color: #00af00\">1,984</span> │ input_layer[<span style=\"color: #00af00; text-decoration-color: #00af00\">0</span>][<span style=\"color: #00af00; text-decoration-color: #00af00\">0</span>] │\n",
              "├─────────────────────┼───────────────────┼────────────┼───────────────────┤\n",
              "│ dense_1 (<span style=\"color: #0087ff; text-decoration-color: #0087ff\">Dense</span>)     │ (<span style=\"color: #00d7ff; text-decoration-color: #00d7ff\">None</span>, <span style=\"color: #00af00; text-decoration-color: #00af00\">32</span>)        │      <span style=\"color: #00af00; text-decoration-color: #00af00\">2,080</span> │ dense[<span style=\"color: #00af00; text-decoration-color: #00af00\">0</span>][<span style=\"color: #00af00; text-decoration-color: #00af00\">0</span>]       │\n",
              "├─────────────────────┼───────────────────┼────────────┼───────────────────┤\n",
              "│ z_mean (<span style=\"color: #0087ff; text-decoration-color: #0087ff\">Dense</span>)      │ (<span style=\"color: #00d7ff; text-decoration-color: #00d7ff\">None</span>, <span style=\"color: #00af00; text-decoration-color: #00af00\">16</span>)        │        <span style=\"color: #00af00; text-decoration-color: #00af00\">528</span> │ dense_1[<span style=\"color: #00af00; text-decoration-color: #00af00\">0</span>][<span style=\"color: #00af00; text-decoration-color: #00af00\">0</span>]     │\n",
              "├─────────────────────┼───────────────────┼────────────┼───────────────────┤\n",
              "│ z_log_var (<span style=\"color: #0087ff; text-decoration-color: #0087ff\">Dense</span>)   │ (<span style=\"color: #00d7ff; text-decoration-color: #00d7ff\">None</span>, <span style=\"color: #00af00; text-decoration-color: #00af00\">16</span>)        │        <span style=\"color: #00af00; text-decoration-color: #00af00\">528</span> │ dense_1[<span style=\"color: #00af00; text-decoration-color: #00af00\">0</span>][<span style=\"color: #00af00; text-decoration-color: #00af00\">0</span>]     │\n",
              "├─────────────────────┼───────────────────┼────────────┼───────────────────┤\n",
              "│ sampling (<span style=\"color: #0087ff; text-decoration-color: #0087ff\">Sampling</span>) │ (<span style=\"color: #00d7ff; text-decoration-color: #00d7ff\">None</span>, <span style=\"color: #00af00; text-decoration-color: #00af00\">16</span>)        │          <span style=\"color: #00af00; text-decoration-color: #00af00\">0</span> │ z_mean[<span style=\"color: #00af00; text-decoration-color: #00af00\">0</span>][<span style=\"color: #00af00; text-decoration-color: #00af00\">0</span>],     │\n",
              "│                     │                   │            │ z_log_var[<span style=\"color: #00af00; text-decoration-color: #00af00\">0</span>][<span style=\"color: #00af00; text-decoration-color: #00af00\">0</span>]   │\n",
              "└─────────────────────┴───────────────────┴────────────┴───────────────────┘\n",
              "</pre>\n"
            ]
          },
          "metadata": {}
        },
        {
          "output_type": "display_data",
          "data": {
            "text/plain": [
              "\u001b[1m Total params: \u001b[0m\u001b[38;5;34m5,120\u001b[0m (20.00 KB)\n"
            ],
            "text/html": [
              "<pre style=\"white-space:pre;overflow-x:auto;line-height:normal;font-family:Menlo,'DejaVu Sans Mono',consolas,'Courier New',monospace\"><span style=\"font-weight: bold\"> Total params: </span><span style=\"color: #00af00; text-decoration-color: #00af00\">5,120</span> (20.00 KB)\n",
              "</pre>\n"
            ]
          },
          "metadata": {}
        },
        {
          "output_type": "display_data",
          "data": {
            "text/plain": [
              "\u001b[1m Trainable params: \u001b[0m\u001b[38;5;34m5,120\u001b[0m (20.00 KB)\n"
            ],
            "text/html": [
              "<pre style=\"white-space:pre;overflow-x:auto;line-height:normal;font-family:Menlo,'DejaVu Sans Mono',consolas,'Courier New',monospace\"><span style=\"font-weight: bold\"> Trainable params: </span><span style=\"color: #00af00; text-decoration-color: #00af00\">5,120</span> (20.00 KB)\n",
              "</pre>\n"
            ]
          },
          "metadata": {}
        },
        {
          "output_type": "display_data",
          "data": {
            "text/plain": [
              "\u001b[1m Non-trainable params: \u001b[0m\u001b[38;5;34m0\u001b[0m (0.00 B)\n"
            ],
            "text/html": [
              "<pre style=\"white-space:pre;overflow-x:auto;line-height:normal;font-family:Menlo,'DejaVu Sans Mono',consolas,'Courier New',monospace\"><span style=\"font-weight: bold\"> Non-trainable params: </span><span style=\"color: #00af00; text-decoration-color: #00af00\">0</span> (0.00 B)\n",
              "</pre>\n"
            ]
          },
          "metadata": {}
        }
      ]
    },
    {
      "cell_type": "markdown",
      "source": [
        "Criando o decoder"
      ],
      "metadata": {
        "id": "fgubFs-JUP4L"
      }
    },
    {
      "cell_type": "code",
      "source": [
        "latent_inputs = keras.Input(shape=(latent_dim,))\n",
        "x = layers.Dense(32, activation=\"relu\")(latent_inputs)\n",
        "x = layers.Dense(64, activation=\"relu\")(x)\n",
        "\n",
        "decoder_outputs = layers.Dense(n_features)(x)\n",
        "\n",
        "decoder = keras.Model(latent_inputs, decoder_outputs, name=\"decoder\")\n",
        "decoder.summary()"
      ],
      "metadata": {
        "colab": {
          "base_uri": "https://localhost:8080/",
          "height": 257
        },
        "id": "Vl4ldGZvKr90",
        "outputId": "b0100b6e-218c-4b98-e71d-af7cdafe6dfc"
      },
      "execution_count": null,
      "outputs": [
        {
          "output_type": "display_data",
          "data": {
            "text/plain": [
              "\u001b[1mModel: \"decoder\"\u001b[0m\n"
            ],
            "text/html": [
              "<pre style=\"white-space:pre;overflow-x:auto;line-height:normal;font-family:Menlo,'DejaVu Sans Mono',consolas,'Courier New',monospace\"><span style=\"font-weight: bold\">Model: \"decoder\"</span>\n",
              "</pre>\n"
            ]
          },
          "metadata": {}
        },
        {
          "output_type": "display_data",
          "data": {
            "text/plain": [
              "┏━━━━━━━━━━━━━━━━━━━━━━━━━━━━━━━━━┳━━━━━━━━━━━━━━━━━━━━━━━━┳━━━━━━━━━━━━━━━┓\n",
              "┃\u001b[1m \u001b[0m\u001b[1mLayer (type)                   \u001b[0m\u001b[1m \u001b[0m┃\u001b[1m \u001b[0m\u001b[1mOutput Shape          \u001b[0m\u001b[1m \u001b[0m┃\u001b[1m \u001b[0m\u001b[1m      Param #\u001b[0m\u001b[1m \u001b[0m┃\n",
              "┡━━━━━━━━━━━━━━━━━━━━━━━━━━━━━━━━━╇━━━━━━━━━━━━━━━━━━━━━━━━╇━━━━━━━━━━━━━━━┩\n",
              "│ input_layer_1 (\u001b[38;5;33mInputLayer\u001b[0m)      │ (\u001b[38;5;45mNone\u001b[0m, \u001b[38;5;34m16\u001b[0m)             │             \u001b[38;5;34m0\u001b[0m │\n",
              "├─────────────────────────────────┼────────────────────────┼───────────────┤\n",
              "│ dense_2 (\u001b[38;5;33mDense\u001b[0m)                 │ (\u001b[38;5;45mNone\u001b[0m, \u001b[38;5;34m32\u001b[0m)             │           \u001b[38;5;34m544\u001b[0m │\n",
              "├─────────────────────────────────┼────────────────────────┼───────────────┤\n",
              "│ dense_3 (\u001b[38;5;33mDense\u001b[0m)                 │ (\u001b[38;5;45mNone\u001b[0m, \u001b[38;5;34m64\u001b[0m)             │         \u001b[38;5;34m2,112\u001b[0m │\n",
              "├─────────────────────────────────┼────────────────────────┼───────────────┤\n",
              "│ dense_4 (\u001b[38;5;33mDense\u001b[0m)                 │ (\u001b[38;5;45mNone\u001b[0m, \u001b[38;5;34m30\u001b[0m)             │         \u001b[38;5;34m1,950\u001b[0m │\n",
              "└─────────────────────────────────┴────────────────────────┴───────────────┘\n"
            ],
            "text/html": [
              "<pre style=\"white-space:pre;overflow-x:auto;line-height:normal;font-family:Menlo,'DejaVu Sans Mono',consolas,'Courier New',monospace\">┏━━━━━━━━━━━━━━━━━━━━━━━━━━━━━━━━━┳━━━━━━━━━━━━━━━━━━━━━━━━┳━━━━━━━━━━━━━━━┓\n",
              "┃<span style=\"font-weight: bold\"> Layer (type)                    </span>┃<span style=\"font-weight: bold\"> Output Shape           </span>┃<span style=\"font-weight: bold\">       Param # </span>┃\n",
              "┡━━━━━━━━━━━━━━━━━━━━━━━━━━━━━━━━━╇━━━━━━━━━━━━━━━━━━━━━━━━╇━━━━━━━━━━━━━━━┩\n",
              "│ input_layer_1 (<span style=\"color: #0087ff; text-decoration-color: #0087ff\">InputLayer</span>)      │ (<span style=\"color: #00d7ff; text-decoration-color: #00d7ff\">None</span>, <span style=\"color: #00af00; text-decoration-color: #00af00\">16</span>)             │             <span style=\"color: #00af00; text-decoration-color: #00af00\">0</span> │\n",
              "├─────────────────────────────────┼────────────────────────┼───────────────┤\n",
              "│ dense_2 (<span style=\"color: #0087ff; text-decoration-color: #0087ff\">Dense</span>)                 │ (<span style=\"color: #00d7ff; text-decoration-color: #00d7ff\">None</span>, <span style=\"color: #00af00; text-decoration-color: #00af00\">32</span>)             │           <span style=\"color: #00af00; text-decoration-color: #00af00\">544</span> │\n",
              "├─────────────────────────────────┼────────────────────────┼───────────────┤\n",
              "│ dense_3 (<span style=\"color: #0087ff; text-decoration-color: #0087ff\">Dense</span>)                 │ (<span style=\"color: #00d7ff; text-decoration-color: #00d7ff\">None</span>, <span style=\"color: #00af00; text-decoration-color: #00af00\">64</span>)             │         <span style=\"color: #00af00; text-decoration-color: #00af00\">2,112</span> │\n",
              "├─────────────────────────────────┼────────────────────────┼───────────────┤\n",
              "│ dense_4 (<span style=\"color: #0087ff; text-decoration-color: #0087ff\">Dense</span>)                 │ (<span style=\"color: #00d7ff; text-decoration-color: #00d7ff\">None</span>, <span style=\"color: #00af00; text-decoration-color: #00af00\">30</span>)             │         <span style=\"color: #00af00; text-decoration-color: #00af00\">1,950</span> │\n",
              "└─────────────────────────────────┴────────────────────────┴───────────────┘\n",
              "</pre>\n"
            ]
          },
          "metadata": {}
        },
        {
          "output_type": "display_data",
          "data": {
            "text/plain": [
              "\u001b[1m Total params: \u001b[0m\u001b[38;5;34m4,606\u001b[0m (17.99 KB)\n"
            ],
            "text/html": [
              "<pre style=\"white-space:pre;overflow-x:auto;line-height:normal;font-family:Menlo,'DejaVu Sans Mono',consolas,'Courier New',monospace\"><span style=\"font-weight: bold\"> Total params: </span><span style=\"color: #00af00; text-decoration-color: #00af00\">4,606</span> (17.99 KB)\n",
              "</pre>\n"
            ]
          },
          "metadata": {}
        },
        {
          "output_type": "display_data",
          "data": {
            "text/plain": [
              "\u001b[1m Trainable params: \u001b[0m\u001b[38;5;34m4,606\u001b[0m (17.99 KB)\n"
            ],
            "text/html": [
              "<pre style=\"white-space:pre;overflow-x:auto;line-height:normal;font-family:Menlo,'DejaVu Sans Mono',consolas,'Courier New',monospace\"><span style=\"font-weight: bold\"> Trainable params: </span><span style=\"color: #00af00; text-decoration-color: #00af00\">4,606</span> (17.99 KB)\n",
              "</pre>\n"
            ]
          },
          "metadata": {}
        },
        {
          "output_type": "display_data",
          "data": {
            "text/plain": [
              "\u001b[1m Non-trainable params: \u001b[0m\u001b[38;5;34m0\u001b[0m (0.00 B)\n"
            ],
            "text/html": [
              "<pre style=\"white-space:pre;overflow-x:auto;line-height:normal;font-family:Menlo,'DejaVu Sans Mono',consolas,'Courier New',monospace\"><span style=\"font-weight: bold\"> Non-trainable params: </span><span style=\"color: #00af00; text-decoration-color: #00af00\">0</span> (0.00 B)\n",
              "</pre>\n"
            ]
          },
          "metadata": {}
        }
      ]
    },
    {
      "cell_type": "markdown",
      "source": [
        "Aqui personalizamos uma callback que irá aumentando progressivamente o peso da KL, para permitir que o modelo foque em aprender a reconstruir os dados nas épocas iniciais (quando o peso da KL é baixo) antes de aplicar a força total da regularização do espaço latente"
      ],
      "metadata": {
        "id": "tlN6jGiKUmsE"
      }
    },
    {
      "cell_type": "code",
      "source": [
        "class KLAnnealingCallback(keras.callbacks.Callback):\n",
        "    def __init__(self, kl_weight_max=1.0, epochs_for_annealing=10):\n",
        "        super().__init__()\n",
        "        self.kl_weight_max = kl_weight_max\n",
        "        self.epochs_for_annealing = epochs_for_annealing\n",
        "\n",
        "    def on_epoch_begin(self, epoch, logs=None):\n",
        "        # Aumenta o peso linearmente de 0 até kl_weight_max\n",
        "        new_kl_weight = min(self.kl_weight_max, epoch / self.epochs_for_annealing)\n",
        "        # Atualiza o peso diretamente no modelo\n",
        "        self.model.kl_weight.assign(new_kl_weight)\n",
        "        print(f\"Epoch {epoch+1}: Setting kl_weight to {self.model.kl_weight.numpy():.4f}\")\n"
      ],
      "metadata": {
        "id": "3pLP9vc0Pp59"
      },
      "execution_count": null,
      "outputs": []
    },
    {
      "cell_type": "markdown",
      "source": [
        "Implementando agora o VAE completo, unindo todas as partes(encoder,camada latente,decoder) e definindo alguns metodos personalizados para o modelo, para deixar ele mais personalizado e permitindo o uso do KLanneling"
      ],
      "metadata": {
        "id": "i45F-dhFmg2_"
      }
    },
    {
      "cell_type": "code",
      "source": [
        "class VAE(keras.Model): #herdar keras.Model nos permite personalizar exatamente como o modelo é treinado e avaliado\n",
        "    def __init__(self, encoder, decoder, **kwargs):\n",
        "        super().__init__(**kwargs)\n",
        "        self.encoder = encoder\n",
        "        self.decoder = decoder\n",
        "        self.kl_weight = tf.Variable(0.0, trainable=False, name='kl_weight')\n",
        "        # Trackers para monitoramento detalhado\n",
        "        self.total_loss_tracker = keras.metrics.Mean(name=\"total_loss\")\n",
        "        self.reconstruction_loss_tracker = keras.metrics.Mean(name=\"reconstruction_loss\")\n",
        "        self.kl_loss_tracker = keras.metrics.Mean(name=\"kl_loss\")\n",
        "\n",
        "    @property\n",
        "    def metrics(self):\n",
        "        return [self.total_loss_tracker, self.reconstruction_loss_tracker, self.kl_loss_tracker]\n",
        "\n",
        "    def call(self, inputs):\n",
        "        _, _, z = self.encoder(inputs)\n",
        "        return self.decoder(z)\n",
        "\n",
        "    #Personalizando o processo de treinamento do modelo\n",
        "    def train_step(self, data):\n",
        "        if isinstance(data, tuple):\n",
        "            data = data[0]\n",
        "\n",
        "        with tf.GradientTape() as tape:\n",
        "            z_mean, z_log_var, z = self.encoder(data)\n",
        "            reconstruction = self.decoder(z)\n",
        "\n",
        "            reconstruction_loss = tf.reduce_mean(\n",
        "                tf.reduce_sum(\n",
        "                    keras.losses.mean_squared_error(data, reconstruction), axis=-1\n",
        "                )\n",
        "            )\n",
        "\n",
        "            kl_loss = -0.5 * (1 + z_log_var - tf.square(z_mean) - tf.exp(z_log_var))\n",
        "            kl_loss = tf.reduce_mean(tf.reduce_sum(kl_loss, axis=1))\n",
        "\n",
        "            total_loss = reconstruction_loss + self.kl_weight * kl_loss\n",
        "\n",
        "        # Backpropagation\n",
        "        grads = tape.gradient(total_loss, self.trainable_weights)\n",
        "        self.optimizer.apply_gradients(zip(grads, self.trainable_weights))\n",
        "\n",
        "        # Atualizando as métricas\n",
        "        self.total_loss_tracker.update_state(total_loss)\n",
        "        self.reconstruction_loss_tracker.update_state(reconstruction_loss)\n",
        "        self.kl_loss_tracker.update_state(kl_loss)\n",
        "\n",
        "        return {m.name: m.result() for m in self.metrics}\n",
        "\n",
        "    # Adicionando o test_step para que a validação funcione corretamente\n",
        "    def test_step(self, data):\n",
        "        if isinstance(data, tuple):\n",
        "            data = data[0]\n",
        "\n",
        "        z_mean, z_log_var, z = self.encoder(data)\n",
        "        reconstruction = self.decoder(z)\n",
        "\n",
        "        reconstruction_loss = tf.reduce_mean(\n",
        "            tf.reduce_sum(\n",
        "                keras.losses.mean_squared_error(data, reconstruction), axis=-1\n",
        "            )\n",
        "        )\n",
        "        kl_loss = -0.5 * (1 + z_log_var - tf.square(z_mean) - tf.exp(z_log_var))\n",
        "        kl_loss = tf.reduce_mean(tf.reduce_sum(kl_loss, axis=1))\n",
        "\n",
        "        total_loss = reconstruction_loss + self.kl_weight * kl_loss\n",
        "\n",
        "        self.total_loss_tracker.update_state(total_loss)\n",
        "        self.reconstruction_loss_tracker.update_state(reconstruction_loss)\n",
        "        self.kl_loss_tracker.update_state(kl_loss)\n",
        "\n",
        "        return {m.name: m.result() for m in self.metrics}"
      ],
      "metadata": {
        "id": "G_gzBLMuMeiO"
      },
      "execution_count": null,
      "outputs": []
    },
    {
      "cell_type": "code",
      "source": [
        "vae = VAE(encoder, decoder)\n",
        "kl_annealing_callback = KLAnnealingCallback(kl_weight_max=0.5, epochs_for_annealing=15)\n"
      ],
      "metadata": {
        "id": "OBBs98FzP8xc"
      },
      "execution_count": null,
      "outputs": []
    },
    {
      "cell_type": "code",
      "source": [
        "vae.summary()"
      ],
      "metadata": {
        "colab": {
          "base_uri": "https://localhost:8080/",
          "height": 209
        },
        "id": "k-rWd7mNlKU3",
        "outputId": "30ee95fb-4ac4-42c0-f87e-1101dafbf100"
      },
      "execution_count": null,
      "outputs": [
        {
          "output_type": "display_data",
          "data": {
            "text/plain": [
              "\u001b[1mModel: \"vae\"\u001b[0m\n"
            ],
            "text/html": [
              "<pre style=\"white-space:pre;overflow-x:auto;line-height:normal;font-family:Menlo,'DejaVu Sans Mono',consolas,'Courier New',monospace\"><span style=\"font-weight: bold\">Model: \"vae\"</span>\n",
              "</pre>\n"
            ]
          },
          "metadata": {}
        },
        {
          "output_type": "display_data",
          "data": {
            "text/plain": [
              "┏━━━━━━━━━━━━━━━━━━━━━━━━━━━━━━━━━┳━━━━━━━━━━━━━━━━━━━━━━━━┳━━━━━━━━━━━━━━━┓\n",
              "┃\u001b[1m \u001b[0m\u001b[1mLayer (type)                   \u001b[0m\u001b[1m \u001b[0m┃\u001b[1m \u001b[0m\u001b[1mOutput Shape          \u001b[0m\u001b[1m \u001b[0m┃\u001b[1m \u001b[0m\u001b[1m      Param #\u001b[0m\u001b[1m \u001b[0m┃\n",
              "┡━━━━━━━━━━━━━━━━━━━━━━━━━━━━━━━━━╇━━━━━━━━━━━━━━━━━━━━━━━━╇━━━━━━━━━━━━━━━┩\n",
              "│ encoder (\u001b[38;5;33mFunctional\u001b[0m)            │ (\u001b[38;5;34m(None, 16)\u001b[0m, \u001b[38;5;34m(None, \u001b[0m   │         \u001b[38;5;34m5,120\u001b[0m │\n",
              "│                                 │ \u001b[38;5;34m16)\u001b[0m, \u001b[38;5;34m(None, 16)\u001b[0m)       │               │\n",
              "├─────────────────────────────────┼────────────────────────┼───────────────┤\n",
              "│ decoder (\u001b[38;5;33mFunctional\u001b[0m)            │ (\u001b[38;5;45mNone\u001b[0m, \u001b[38;5;34m30\u001b[0m)             │         \u001b[38;5;34m4,606\u001b[0m │\n",
              "└─────────────────────────────────┴────────────────────────┴───────────────┘\n"
            ],
            "text/html": [
              "<pre style=\"white-space:pre;overflow-x:auto;line-height:normal;font-family:Menlo,'DejaVu Sans Mono',consolas,'Courier New',monospace\">┏━━━━━━━━━━━━━━━━━━━━━━━━━━━━━━━━━┳━━━━━━━━━━━━━━━━━━━━━━━━┳━━━━━━━━━━━━━━━┓\n",
              "┃<span style=\"font-weight: bold\"> Layer (type)                    </span>┃<span style=\"font-weight: bold\"> Output Shape           </span>┃<span style=\"font-weight: bold\">       Param # </span>┃\n",
              "┡━━━━━━━━━━━━━━━━━━━━━━━━━━━━━━━━━╇━━━━━━━━━━━━━━━━━━━━━━━━╇━━━━━━━━━━━━━━━┩\n",
              "│ encoder (<span style=\"color: #0087ff; text-decoration-color: #0087ff\">Functional</span>)            │ (<span style=\"color: #00af00; text-decoration-color: #00af00\">(None, 16)</span>, <span style=\"color: #00af00; text-decoration-color: #00af00\">(None, </span>   │         <span style=\"color: #00af00; text-decoration-color: #00af00\">5,120</span> │\n",
              "│                                 │ <span style=\"color: #00af00; text-decoration-color: #00af00\">16)</span>, <span style=\"color: #00af00; text-decoration-color: #00af00\">(None, 16)</span>)       │               │\n",
              "├─────────────────────────────────┼────────────────────────┼───────────────┤\n",
              "│ decoder (<span style=\"color: #0087ff; text-decoration-color: #0087ff\">Functional</span>)            │ (<span style=\"color: #00d7ff; text-decoration-color: #00d7ff\">None</span>, <span style=\"color: #00af00; text-decoration-color: #00af00\">30</span>)             │         <span style=\"color: #00af00; text-decoration-color: #00af00\">4,606</span> │\n",
              "└─────────────────────────────────┴────────────────────────┴───────────────┘\n",
              "</pre>\n"
            ]
          },
          "metadata": {}
        },
        {
          "output_type": "display_data",
          "data": {
            "text/plain": [
              "\u001b[1m Total params: \u001b[0m\u001b[38;5;34m9,726\u001b[0m (37.99 KB)\n"
            ],
            "text/html": [
              "<pre style=\"white-space:pre;overflow-x:auto;line-height:normal;font-family:Menlo,'DejaVu Sans Mono',consolas,'Courier New',monospace\"><span style=\"font-weight: bold\"> Total params: </span><span style=\"color: #00af00; text-decoration-color: #00af00\">9,726</span> (37.99 KB)\n",
              "</pre>\n"
            ]
          },
          "metadata": {}
        },
        {
          "output_type": "display_data",
          "data": {
            "text/plain": [
              "\u001b[1m Trainable params: \u001b[0m\u001b[38;5;34m9,726\u001b[0m (37.99 KB)\n"
            ],
            "text/html": [
              "<pre style=\"white-space:pre;overflow-x:auto;line-height:normal;font-family:Menlo,'DejaVu Sans Mono',consolas,'Courier New',monospace\"><span style=\"font-weight: bold\"> Trainable params: </span><span style=\"color: #00af00; text-decoration-color: #00af00\">9,726</span> (37.99 KB)\n",
              "</pre>\n"
            ]
          },
          "metadata": {}
        },
        {
          "output_type": "display_data",
          "data": {
            "text/plain": [
              "\u001b[1m Non-trainable params: \u001b[0m\u001b[38;5;34m0\u001b[0m (0.00 B)\n"
            ],
            "text/html": [
              "<pre style=\"white-space:pre;overflow-x:auto;line-height:normal;font-family:Menlo,'DejaVu Sans Mono',consolas,'Courier New',monospace\"><span style=\"font-weight: bold\"> Non-trainable params: </span><span style=\"color: #00af00; text-decoration-color: #00af00\">0</span> (0.00 B)\n",
              "</pre>\n"
            ]
          },
          "metadata": {}
        }
      ]
    },
    {
      "cell_type": "markdown",
      "source": [
        "# Treinamento do VAE"
      ],
      "metadata": {
        "id": "PEjUl5IIpPMP"
      }
    },
    {
      "cell_type": "code",
      "source": [
        "vae.compile(optimizer=keras.optimizers.Adam())\n",
        "history = vae.fit(X_train,\n",
        "                  epochs=30,\n",
        "                  batch_size=128,\n",
        "                  validation_data=(X_val,),\n",
        "                  callbacks=[kl_annealing_callback])"
      ],
      "metadata": {
        "colab": {
          "base_uri": "https://localhost:8080/"
        },
        "id": "nb0GldeaP9-l",
        "outputId": "06d13b07-37e0-48ee-a71d-e2f51ae5947f"
      },
      "execution_count": null,
      "outputs": [
        {
          "output_type": "stream",
          "name": "stdout",
          "text": [
            "Epoch 1: Setting kl_weight to 0.0000\n",
            "Epoch 1/30\n",
            "\u001b[1m1777/1777\u001b[0m \u001b[32m━━━━━━━━━━━━━━━━━━━━\u001b[0m\u001b[37m\u001b[0m \u001b[1m7s\u001b[0m 3ms/step - kl_loss: 159.0665 - reconstruction_loss: 84.6855 - total_loss: 84.6855 - val_kl_loss: 240.8975 - val_reconstruction_loss: 17.9266 - val_total_loss: 17.9266\n",
            "Epoch 2: Setting kl_weight to 0.0667\n",
            "Epoch 2/30\n",
            "\u001b[1m1777/1777\u001b[0m \u001b[32m━━━━━━━━━━━━━━━━━━━━\u001b[0m\u001b[37m\u001b[0m \u001b[1m4s\u001b[0m 2ms/step - kl_loss: 91.4553 - reconstruction_loss: 16.7285 - total_loss: 22.8255 - val_kl_loss: 55.2761 - val_reconstruction_loss: 12.1744 - val_total_loss: 15.8595\n",
            "Epoch 3: Setting kl_weight to 0.1333\n",
            "Epoch 3/30\n",
            "\u001b[1m1777/1777\u001b[0m \u001b[32m━━━━━━━━━━━━━━━━━━━━\u001b[0m\u001b[37m\u001b[0m \u001b[1m6s\u001b[0m 3ms/step - kl_loss: 45.5383 - reconstruction_loss: 11.7321 - total_loss: 17.8038 - val_kl_loss: 41.4478 - val_reconstruction_loss: 9.5715 - val_total_loss: 15.0979\n",
            "Epoch 4: Setting kl_weight to 0.2000\n",
            "Epoch 4/30\n",
            "\u001b[1m1777/1777\u001b[0m \u001b[32m━━━━━━━━━━━━━━━━━━━━\u001b[0m\u001b[37m\u001b[0m \u001b[1m4s\u001b[0m 3ms/step - kl_loss: 37.4030 - reconstruction_loss: 9.6582 - total_loss: 17.1388 - val_kl_loss: 36.1952 - val_reconstruction_loss: 8.0274 - val_total_loss: 15.2665\n",
            "Epoch 5: Setting kl_weight to 0.2667\n",
            "Epoch 5/30\n",
            "\u001b[1m1777/1777\u001b[0m \u001b[32m━━━━━━━━━━━━━━━━━━━━\u001b[0m\u001b[37m\u001b[0m \u001b[1m5s\u001b[0m 3ms/step - kl_loss: 33.4489 - reconstruction_loss: 8.3457 - total_loss: 17.2655 - val_kl_loss: 32.6830 - val_reconstruction_loss: 7.4068 - val_total_loss: 16.1222\n",
            "Epoch 6: Setting kl_weight to 0.3333\n",
            "Epoch 6/30\n",
            "\u001b[1m1777/1777\u001b[0m \u001b[32m━━━━━━━━━━━━━━━━━━━━\u001b[0m\u001b[37m\u001b[0m \u001b[1m5s\u001b[0m 3ms/step - kl_loss: 30.8282 - reconstruction_loss: 7.9932 - total_loss: 18.2693 - val_kl_loss: 30.0853 - val_reconstruction_loss: 8.2774 - val_total_loss: 18.3059\n",
            "Epoch 7: Setting kl_weight to 0.4000\n",
            "Epoch 7/30\n",
            "\u001b[1m1777/1777\u001b[0m \u001b[32m━━━━━━━━━━━━━━━━━━━━\u001b[0m\u001b[37m\u001b[0m \u001b[1m9s\u001b[0m 2ms/step - kl_loss: 28.6252 - reconstruction_loss: 7.9475 - total_loss: 19.3976 - val_kl_loss: 28.3466 - val_reconstruction_loss: 7.5708 - val_total_loss: 18.9094\n",
            "Epoch 8: Setting kl_weight to 0.4667\n",
            "Epoch 8/30\n",
            "\u001b[1m1777/1777\u001b[0m \u001b[32m━━━━━━━━━━━━━━━━━━━━\u001b[0m\u001b[37m\u001b[0m \u001b[1m5s\u001b[0m 2ms/step - kl_loss: 26.9630 - reconstruction_loss: 8.2349 - total_loss: 20.8176 - val_kl_loss: 26.8132 - val_reconstruction_loss: 7.7984 - val_total_loss: 20.3113\n",
            "Epoch 9: Setting kl_weight to 0.5000\n",
            "Epoch 9/30\n",
            "\u001b[1m1777/1777\u001b[0m \u001b[32m━━━━━━━━━━━━━━━━━━━━\u001b[0m\u001b[37m\u001b[0m \u001b[1m4s\u001b[0m 2ms/step - kl_loss: 25.9605 - reconstruction_loss: 8.2358 - total_loss: 21.2160 - val_kl_loss: 25.5778 - val_reconstruction_loss: 7.9638 - val_total_loss: 20.7527\n",
            "Epoch 10: Setting kl_weight to 0.5000\n",
            "Epoch 10/30\n",
            "\u001b[1m1777/1777\u001b[0m \u001b[32m━━━━━━━━━━━━━━━━━━━━\u001b[0m\u001b[37m\u001b[0m \u001b[1m4s\u001b[0m 2ms/step - kl_loss: 25.4404 - reconstruction_loss: 8.0588 - total_loss: 20.7790 - val_kl_loss: 25.2182 - val_reconstruction_loss: 7.7255 - val_total_loss: 20.3346\n",
            "Epoch 11: Setting kl_weight to 0.5000\n",
            "Epoch 11/30\n",
            "\u001b[1m1777/1777\u001b[0m \u001b[32m━━━━━━━━━━━━━━━━━━━━\u001b[0m\u001b[37m\u001b[0m \u001b[1m4s\u001b[0m 2ms/step - kl_loss: 25.1751 - reconstruction_loss: 7.7601 - total_loss: 20.3477 - val_kl_loss: 24.8836 - val_reconstruction_loss: 7.3805 - val_total_loss: 19.8223\n",
            "Epoch 12: Setting kl_weight to 0.5000\n",
            "Epoch 12/30\n",
            "\u001b[1m1777/1777\u001b[0m \u001b[32m━━━━━━━━━━━━━━━━━━━━\u001b[0m\u001b[37m\u001b[0m \u001b[1m6s\u001b[0m 2ms/step - kl_loss: 24.9618 - reconstruction_loss: 7.5761 - total_loss: 20.0570 - val_kl_loss: 24.6743 - val_reconstruction_loss: 7.3592 - val_total_loss: 19.6963\n",
            "Epoch 13: Setting kl_weight to 0.5000\n",
            "Epoch 13/30\n",
            "\u001b[1m1777/1777\u001b[0m \u001b[32m━━━━━━━━━━━━━━━━━━━━\u001b[0m\u001b[37m\u001b[0m \u001b[1m5s\u001b[0m 3ms/step - kl_loss: 24.7682 - reconstruction_loss: 7.3069 - total_loss: 19.6909 - val_kl_loss: 24.6622 - val_reconstruction_loss: 7.4868 - val_total_loss: 19.8179\n",
            "Epoch 14: Setting kl_weight to 0.5000\n",
            "Epoch 14/30\n",
            "\u001b[1m1777/1777\u001b[0m \u001b[32m━━━━━━━━━━━━━━━━━━━━\u001b[0m\u001b[37m\u001b[0m \u001b[1m7s\u001b[0m 4ms/step - kl_loss: 24.5498 - reconstruction_loss: 7.2136 - total_loss: 19.4885 - val_kl_loss: 24.7177 - val_reconstruction_loss: 6.8921 - val_total_loss: 19.2510\n",
            "Epoch 15: Setting kl_weight to 0.5000\n",
            "Epoch 15/30\n",
            "\u001b[1m1777/1777\u001b[0m \u001b[32m━━━━━━━━━━━━━━━━━━━━\u001b[0m\u001b[37m\u001b[0m \u001b[1m4s\u001b[0m 2ms/step - kl_loss: 24.4850 - reconstruction_loss: 7.0920 - total_loss: 19.3345 - val_kl_loss: 24.3967 - val_reconstruction_loss: 6.9398 - val_total_loss: 19.1381\n",
            "Epoch 16: Setting kl_weight to 0.5000\n",
            "Epoch 16/30\n",
            "\u001b[1m1777/1777\u001b[0m \u001b[32m━━━━━━━━━━━━━━━━━━━━\u001b[0m\u001b[37m\u001b[0m \u001b[1m6s\u001b[0m 3ms/step - kl_loss: 24.3215 - reconstruction_loss: 7.0922 - total_loss: 19.2530 - val_kl_loss: 24.2121 - val_reconstruction_loss: 6.8829 - val_total_loss: 18.9889\n",
            "Epoch 17: Setting kl_weight to 0.5000\n",
            "Epoch 17/30\n",
            "\u001b[1m1777/1777\u001b[0m \u001b[32m━━━━━━━━━━━━━━━━━━━━\u001b[0m\u001b[37m\u001b[0m \u001b[1m5s\u001b[0m 3ms/step - kl_loss: 24.2125 - reconstruction_loss: 6.9262 - total_loss: 19.0325 - val_kl_loss: 23.9209 - val_reconstruction_loss: 7.4493 - val_total_loss: 19.4098\n",
            "Epoch 18: Setting kl_weight to 0.5000\n",
            "Epoch 18/30\n",
            "\u001b[1m1777/1777\u001b[0m \u001b[32m━━━━━━━━━━━━━━━━━━━━\u001b[0m\u001b[37m\u001b[0m \u001b[1m4s\u001b[0m 2ms/step - kl_loss: 24.0821 - reconstruction_loss: 6.9558 - total_loss: 18.9969 - val_kl_loss: 23.9466 - val_reconstruction_loss: 6.9519 - val_total_loss: 18.9252\n",
            "Epoch 19: Setting kl_weight to 0.5000\n",
            "Epoch 19/30\n",
            "\u001b[1m1777/1777\u001b[0m \u001b[32m━━━━━━━━━━━━━━━━━━━━\u001b[0m\u001b[37m\u001b[0m \u001b[1m3s\u001b[0m 2ms/step - kl_loss: 23.9291 - reconstruction_loss: 6.8372 - total_loss: 18.8017 - val_kl_loss: 23.6995 - val_reconstruction_loss: 7.0482 - val_total_loss: 18.8979\n",
            "Epoch 20: Setting kl_weight to 0.5000\n",
            "Epoch 20/30\n",
            "\u001b[1m1777/1777\u001b[0m \u001b[32m━━━━━━━━━━━━━━━━━━━━\u001b[0m\u001b[37m\u001b[0m \u001b[1m6s\u001b[0m 3ms/step - kl_loss: 23.7985 - reconstruction_loss: 6.8987 - total_loss: 18.7980 - val_kl_loss: 23.4911 - val_reconstruction_loss: 6.8786 - val_total_loss: 18.6242\n",
            "Epoch 21: Setting kl_weight to 0.5000\n",
            "Epoch 21/30\n",
            "\u001b[1m1777/1777\u001b[0m \u001b[32m━━━━━━━━━━━━━━━━━━━━\u001b[0m\u001b[37m\u001b[0m \u001b[1m7s\u001b[0m 4ms/step - kl_loss: 23.6660 - reconstruction_loss: 6.7713 - total_loss: 18.6043 - val_kl_loss: 23.7486 - val_reconstruction_loss: 6.8500 - val_total_loss: 18.7243\n",
            "Epoch 22: Setting kl_weight to 0.5000\n",
            "Epoch 22/30\n",
            "\u001b[1m1777/1777\u001b[0m \u001b[32m━━━━━━━━━━━━━━━━━━━━\u001b[0m\u001b[37m\u001b[0m \u001b[1m7s\u001b[0m 2ms/step - kl_loss: 23.5952 - reconstruction_loss: 6.8502 - total_loss: 18.6478 - val_kl_loss: 23.5148 - val_reconstruction_loss: 6.5272 - val_total_loss: 18.2846\n",
            "Epoch 23: Setting kl_weight to 0.5000\n",
            "Epoch 23/30\n",
            "\u001b[1m1777/1777\u001b[0m \u001b[32m━━━━━━━━━━━━━━━━━━━━\u001b[0m\u001b[37m\u001b[0m \u001b[1m4s\u001b[0m 2ms/step - kl_loss: 23.4512 - reconstruction_loss: 6.7496 - total_loss: 18.4752 - val_kl_loss: 23.3358 - val_reconstruction_loss: 6.7574 - val_total_loss: 18.4253\n",
            "Epoch 24: Setting kl_weight to 0.5000\n",
            "Epoch 24/30\n",
            "\u001b[1m1777/1777\u001b[0m \u001b[32m━━━━━━━━━━━━━━━━━━━━\u001b[0m\u001b[37m\u001b[0m \u001b[1m4s\u001b[0m 2ms/step - kl_loss: 23.3405 - reconstruction_loss: 6.7418 - total_loss: 18.4121 - val_kl_loss: 23.3500 - val_reconstruction_loss: 6.6333 - val_total_loss: 18.3084\n",
            "Epoch 25: Setting kl_weight to 0.5000\n",
            "Epoch 25/30\n",
            "\u001b[1m1777/1777\u001b[0m \u001b[32m━━━━━━━━━━━━━━━━━━━━\u001b[0m\u001b[37m\u001b[0m \u001b[1m3s\u001b[0m 2ms/step - kl_loss: 23.2335 - reconstruction_loss: 6.6534 - total_loss: 18.2702 - val_kl_loss: 23.1361 - val_reconstruction_loss: 6.4814 - val_total_loss: 18.0495\n",
            "Epoch 26: Setting kl_weight to 0.5000\n",
            "Epoch 26/30\n",
            "\u001b[1m1777/1777\u001b[0m \u001b[32m━━━━━━━━━━━━━━━━━━━━\u001b[0m\u001b[37m\u001b[0m \u001b[1m6s\u001b[0m 2ms/step - kl_loss: 23.1048 - reconstruction_loss: 6.5528 - total_loss: 18.1052 - val_kl_loss: 23.1412 - val_reconstruction_loss: 6.3943 - val_total_loss: 17.9650\n",
            "Epoch 27: Setting kl_weight to 0.5000\n",
            "Epoch 27/30\n",
            "\u001b[1m1777/1777\u001b[0m \u001b[32m━━━━━━━━━━━━━━━━━━━━\u001b[0m\u001b[37m\u001b[0m \u001b[1m4s\u001b[0m 2ms/step - kl_loss: 22.9806 - reconstruction_loss: 6.4710 - total_loss: 17.9613 - val_kl_loss: 22.7563 - val_reconstruction_loss: 6.3963 - val_total_loss: 17.7744\n",
            "Epoch 28: Setting kl_weight to 0.5000\n",
            "Epoch 28/30\n",
            "\u001b[1m1777/1777\u001b[0m \u001b[32m━━━━━━━━━━━━━━━━━━━━\u001b[0m\u001b[37m\u001b[0m \u001b[1m4s\u001b[0m 2ms/step - kl_loss: 22.9186 - reconstruction_loss: 6.3976 - total_loss: 17.8569 - val_kl_loss: 22.9908 - val_reconstruction_loss: 6.3296 - val_total_loss: 17.8250\n",
            "Epoch 29: Setting kl_weight to 0.5000\n",
            "Epoch 29/30\n",
            "\u001b[1m1777/1777\u001b[0m \u001b[32m━━━━━━━━━━━━━━━━━━━━\u001b[0m\u001b[37m\u001b[0m \u001b[1m6s\u001b[0m 2ms/step - kl_loss: 22.8895 - reconstruction_loss: 6.3893 - total_loss: 17.8341 - val_kl_loss: 23.2513 - val_reconstruction_loss: 6.1267 - val_total_loss: 17.7524\n",
            "Epoch 30: Setting kl_weight to 0.5000\n",
            "Epoch 30/30\n",
            "\u001b[1m1777/1777\u001b[0m \u001b[32m━━━━━━━━━━━━━━━━━━━━\u001b[0m\u001b[37m\u001b[0m \u001b[1m5s\u001b[0m 2ms/step - kl_loss: 22.7606 - reconstruction_loss: 6.3338 - total_loss: 17.7141 - val_kl_loss: 22.6486 - val_reconstruction_loss: 6.8244 - val_total_loss: 18.1487\n"
          ]
        }
      ]
    },
    {
      "cell_type": "markdown",
      "source": [
        "Calculando o erro de reconstrução para o conjunto de validação"
      ],
      "metadata": {
        "id": "KN9fNsbEqxZq"
      }
    },
    {
      "cell_type": "code",
      "source": [
        "reconstructions = vae.predict(X_val)\n",
        "reconstruction_errors = tf.keras.losses.mse(reconstructions, X_val)"
      ],
      "metadata": {
        "colab": {
          "base_uri": "https://localhost:8080/"
        },
        "id": "xl9P8a3xGswu",
        "outputId": "0027bff9-cf43-4801-88e3-db8a13c937bb"
      },
      "execution_count": null,
      "outputs": [
        {
          "output_type": "stream",
          "name": "stdout",
          "text": [
            "\u001b[1m1777/1777\u001b[0m \u001b[32m━━━━━━━━━━━━━━━━━━━━\u001b[0m\u001b[37m\u001b[0m \u001b[1m1s\u001b[0m 788us/step\n"
          ]
        }
      ]
    },
    {
      "cell_type": "markdown",
      "source": [
        "Definindo o limiar de anomalia baseado no percentil 99 dos erros de reconstrução. Então qualquer transação com erro acima deste valor será considerada uma fraude"
      ],
      "metadata": {
        "id": "APOHkIByuC2h"
      }
    },
    {
      "cell_type": "code",
      "source": [
        "threshold = np.percentile(reconstruction_errors, 99)\n",
        "print(f\"Limiar de anomalia definido: {threshold}\")"
      ],
      "metadata": {
        "colab": {
          "base_uri": "https://localhost:8080/"
        },
        "id": "wArpbyiQGvWo",
        "outputId": "cde57ad0-bbbf-419c-9462-cca45da519ac"
      },
      "execution_count": null,
      "outputs": [
        {
          "output_type": "stream",
          "name": "stdout",
          "text": [
            "Limiar de anomalia definido: 0.27134317198709557\n"
          ]
        }
      ]
    },
    {
      "cell_type": "markdown",
      "source": [
        "Adicionado as transações fraudulentas para a fase de teste do modelo"
      ],
      "metadata": {
        "id": "hgetM3dCuMNX"
      }
    },
    {
      "cell_type": "code",
      "source": [
        "X_test = np.concatenate([X_val, X_fraud])\n",
        "y_test = np.concatenate([np.zeros(len(X_val)), np.ones(len(X_fraud))])"
      ],
      "metadata": {
        "id": "fPtH-pghG1Tr"
      },
      "execution_count": null,
      "outputs": []
    },
    {
      "cell_type": "markdown",
      "source": [
        "Agora a etapa da avaliação final. É gerado previsões aplicando o limiar de anomalia nos erros de reconstrução do conjunto de teste."
      ],
      "metadata": {
        "id": "9sc3J-8ovEbg"
      }
    },
    {
      "cell_type": "code",
      "source": [
        "test_reconstructions = vae.predict(X_test)\n",
        "test_errors = tf.keras.losses.mse(test_reconstructions, X_test)\n",
        "y_pred = [1 if error > threshold else 0 for error in test_errors]"
      ],
      "metadata": {
        "colab": {
          "base_uri": "https://localhost:8080/"
        },
        "id": "O2TjoCviG3aB",
        "outputId": "1d951403-ab9e-42ff-93da-69708b0d07a1"
      },
      "execution_count": null,
      "outputs": [
        {
          "output_type": "stream",
          "name": "stdout",
          "text": [
            "\u001b[1m1793/1793\u001b[0m \u001b[32m━━━━━━━━━━━━━━━━━━━━\u001b[0m\u001b[37m\u001b[0m \u001b[1m2s\u001b[0m 940us/step\n"
          ]
        }
      ]
    },
    {
      "cell_type": "markdown",
      "source": [
        "Avaliando o resultado obtido por meio do relatório de classificação do Scikit-learn e da matriz de confusão"
      ],
      "metadata": {
        "id": "_fKBuZUSvs6R"
      }
    },
    {
      "cell_type": "code",
      "source": [
        "print(classification_report(y_test, y_pred))\n",
        "print(confusion_matrix(y_test, y_pred))"
      ],
      "metadata": {
        "colab": {
          "base_uri": "https://localhost:8080/"
        },
        "id": "TRMsUMpCzgFb",
        "outputId": "3f682f64-e1b9-4777-b7ac-5168b8152c03"
      },
      "execution_count": null,
      "outputs": [
        {
          "output_type": "stream",
          "name": "stdout",
          "text": [
            "              precision    recall  f1-score   support\n",
            "\n",
            "         0.0       1.00      0.99      0.99     56863\n",
            "         1.0       0.41      0.81      0.54       492\n",
            "\n",
            "    accuracy                           0.99     57355\n",
            "   macro avg       0.70      0.90      0.77     57355\n",
            "weighted avg       0.99      0.99      0.99     57355\n",
            "\n",
            "[[56278   585]\n",
            " [   93   399]]\n"
          ]
        }
      ]
    },
    {
      "cell_type": "markdown",
      "source": [
        "Vendo o trade-off entre precisão e o recall do modelo para cada limiar de erro possível."
      ],
      "metadata": {
        "id": "f6GKl1e7xEOU"
      }
    },
    {
      "cell_type": "code",
      "source": [
        "precision, recall, thresholds = precision_recall_curve(y_test, test_errors)\n",
        "\n",
        "plt.figure(figsize=(10, 7))\n",
        "plt.plot(thresholds, precision[:-1], label=\"Precision\", color=\"blue\")\n",
        "plt.plot(thresholds, recall[:-1], label=\"Recall\", color=\"green\")\n",
        "plt.title('Curva Precision-Recall vs. Limiar (Threshold)')\n",
        "plt.xlabel('Limiar (Threshold do Erro de Reconstrução)')\n",
        "plt.ylabel('Score')\n",
        "plt.legend()\n",
        "plt.grid(True)\n",
        "plt.savefig('precision_recall_curve.png')\n",
        "plt.show()\n"
      ],
      "metadata": {
        "colab": {
          "base_uri": "https://localhost:8080/",
          "height": 641
        },
        "id": "AxW-AyR3S3rI",
        "outputId": "5ee56eb1-53f7-4fdb-85aa-0d0d588e15cd"
      },
      "execution_count": null,
      "outputs": [
        {
          "output_type": "display_data",
          "data": {
            "text/plain": [
              "<Figure size 1000x700 with 1 Axes>"
            ],
            "image/png": "[encoded data removed]"
          },
          "metadata": {}
        }
      ]
    },
    {
      "cell_type": "markdown",
      "source": [
        "Personalizando agora o limiar manualmente visando obter melhores resultados"
      ],
      "metadata": {
        "id": "BeGpbpeGqZi7"
      }
    },
    {
      "cell_type": "code",
      "source": [
        "novo_limiar = 1\n",
        "y_pred_novo = [1 if error > novo_limiar else 0 for error in test_errors]"
      ],
      "metadata": {
        "id": "zgg-OBji1Ziq"
      },
      "execution_count": null,
      "outputs": []
    },
    {
      "cell_type": "code",
      "source": [
        "print(classification_report(y_test, y_pred_novo))\n",
        "print(confusion_matrix(y_test, y_pred_novo))"
      ],
      "metadata": {
        "colab": {
          "base_uri": "https://localhost:8080/"
        },
        "id": "DGtl_nRUG7E0",
        "outputId": "a848458b-2bf3-4218-ab79-3fcd5130f669"
      },
      "execution_count": null,
      "outputs": [
        {
          "output_type": "stream",
          "name": "stdout",
          "text": [
            "              precision    recall  f1-score   support\n",
            "\n",
            "         0.0       1.00      1.00      1.00     56863\n",
            "         1.0       0.90      0.58      0.71       492\n",
            "\n",
            "    accuracy                           1.00     57355\n",
            "   macro avg       0.95      0.79      0.85     57355\n",
            "weighted avg       1.00      1.00      1.00     57355\n",
            "\n",
            "[[56830    33]\n",
            " [  206   286]]\n"
          ]
        }
      ]
    },
    {
      "cell_type": "code",
      "source": [
        "novo_limiar2 = 0.8\n",
        "y_pred_novo2 = [1 if error > novo_limiar2 else 0 for error in test_errors]"
      ],
      "metadata": {
        "id": "OK2lZNtC2Idi"
      },
      "execution_count": null,
      "outputs": []
    },
    {
      "cell_type": "code",
      "source": [
        "print(classification_report(y_test, y_pred_novo2))\n",
        "print(confusion_matrix(y_test, y_pred_novo2))"
      ],
      "metadata": {
        "colab": {
          "base_uri": "https://localhost:8080/"
        },
        "id": "NPYZSHU22LPo",
        "outputId": "f843219d-ea24-4f2c-9ea3-c37a04ff305e"
      },
      "execution_count": null,
      "outputs": [
        {
          "output_type": "stream",
          "name": "stdout",
          "text": [
            "              precision    recall  f1-score   support\n",
            "\n",
            "         0.0       1.00      1.00      1.00     56863\n",
            "         1.0       0.85      0.65      0.73       492\n",
            "\n",
            "    accuracy                           1.00     57355\n",
            "   macro avg       0.92      0.82      0.87     57355\n",
            "weighted avg       1.00      1.00      1.00     57355\n",
            "\n",
            "[[56806    57]\n",
            " [  174   318]]\n"
          ]
        }
      ]
    },
    {
      "cell_type": "markdown",
      "source": [
        "Com isso foi obtido um f1-score geral melhor(macro avg) para o modelo. Assim finalizamos os testes do modelo, chegando a um resultado consideravelmente bom baseado no problema enfrentado, com um f1-score de 87%, simbolizando um bom equilíbrio entre precision e o recall,isso demonstra que o modelo é simultaneamente eficaz e confiável"
      ],
      "metadata": {
        "id": "i4he8A1Exjf5"
      }
    },
    {
      "cell_type": "markdown",
      "source": [
        "# Visualizando o PCA"
      ],
      "metadata": {
        "id": "DTHB20Z0xcx2"
      }
    },
    {
      "cell_type": "markdown",
      "source": [
        "Primeiro fazemos um undersampling da classe de transações normais para poder se tornar mais fácil visivelmente essa avaliação"
      ],
      "metadata": {
        "id": "vXZtL7bF-Nnt"
      }
    },
    {
      "cell_type": "code",
      "source": [
        "# Pegar 3x mais amostras normais que fraudulentas\n",
        "n_samples = len(fraud_df) * 3\n",
        "\n",
        "X_viz_normal = normal_df.sample(n=n_samples, random_state=42).drop('Class', axis=1)\n",
        "X_viz_fraud = fraud_df.drop('Class', axis=1)\n",
        "\n",
        "X_viz = pd.concat([X_viz_normal, X_viz_fraud])\n",
        "y_viz = np.concatenate([np.zeros(len(X_viz_normal)), np.ones(len(X_viz_fraud))])"
      ],
      "metadata": {
        "id": "ZsFl9x2K2q4-"
      },
      "execution_count": null,
      "outputs": []
    },
    {
      "cell_type": "markdown",
      "source": [
        "Obtendo a representação do espaço latente"
      ],
      "metadata": {
        "id": "dswvPk_L-NQh"
      }
    },
    {
      "cell_type": "code",
      "source": [
        "z_mean_viz, _, _ = vae.encoder.predict(X_viz)\n",
        "\n",
        "print(f\"Dimensão do espaço latente original: {z_mean_viz.shape[1]}\")"
      ],
      "metadata": {
        "colab": {
          "base_uri": "https://localhost:8080/"
        },
        "id": "Ffe7CmZO2uIQ",
        "outputId": "24a09147-a5e4-44ac-eb4f-3d9fbfa08471"
      },
      "execution_count": null,
      "outputs": [
        {
          "output_type": "stream",
          "name": "stdout",
          "text": [
            "\u001b[1m62/62\u001b[0m \u001b[32m━━━━━━━━━━━━━━━━━━━━\u001b[0m\u001b[37m\u001b[0m \u001b[1m0s\u001b[0m 2ms/step\n",
            "Dimensão do espaço latente original: 16\n"
          ]
        }
      ]
    },
    {
      "cell_type": "markdown",
      "source": [
        "Aplicando o PCA na camada latente"
      ],
      "metadata": {
        "id": "lG0cYjVA9_6U"
      }
    },
    {
      "cell_type": "code",
      "source": [
        "pca = PCA(n_components=2)\n",
        "z_mean_2d = pca.fit_transform(z_mean_viz)\n",
        "\n",
        "print(\"Dimensão após PCA: \", z_mean_2d.shape[1])\n",
        "\n",
        "explained_variance = pca.explained_variance_ratio_\n",
        "print(f\"Variância explicada pelo 1º componente: {explained_variance[0]:.2%}\")\n",
        "print(f\"Variância explicada pelo 2º componente: {explained_variance[1]:.2%}\")\n",
        "print(f\"Variância total explicada pelos 2 componentes: {np.sum(explained_variance):.2%}\")\n"
      ],
      "metadata": {
        "colab": {
          "base_uri": "https://localhost:8080/"
        },
        "id": "RkRMKlX22wru",
        "outputId": "9ee077ba-0e10-4c3f-a1e4-883d33bd9c3f"
      },
      "execution_count": null,
      "outputs": [
        {
          "output_type": "stream",
          "name": "stdout",
          "text": [
            "Dimensão após PCA:  2\n",
            "Variância explicada pelo 1º componente: 51.27%\n",
            "Variância explicada pelo 2º componente: 11.71%\n",
            "Variância total explicada pelos 2 componentes: 62.98%\n"
          ]
        }
      ]
    },
    {
      "cell_type": "markdown",
      "source": [
        "Visualizando o resultado obtido graficamente"
      ],
      "metadata": {
        "id": "rDeocTB586Qu"
      }
    },
    {
      "cell_type": "code",
      "source": [
        "df_plot = pd.DataFrame(z_mean_2d, columns=['Componente_1', 'Componente_2'])\n",
        "df_plot['Classe'] = y_viz\n",
        "df_plot['Classe'] = df_plot['Classe'].map({0: 'Normal', 1: 'Fraude'})\n",
        "\n",
        "plt.figure(figsize=(12, 9))\n",
        "sns.scatterplot(\n",
        "    x='Componente_1',\n",
        "    y='Componente_2',\n",
        "    hue='Classe',\n",
        "    data=df_plot,\n",
        "    palette={'Normal': 'blue', 'Fraude': 'red'},\n",
        "    alpha=0.7\n",
        ")\n",
        "plt.title('Projeção 2D do Espaço Latente (via PCA)')\n",
        "plt.xlabel('Componente Principal 1')\n",
        "plt.ylabel('Componente Principal 2')\n",
        "plt.legend()\n",
        "plt.grid(True)\n",
        "plt.savefig('pca_plot.png')\n",
        "plt.show()"
      ],
      "metadata": {
        "colab": {
          "base_uri": "https://localhost:8080/",
          "height": 795
        },
        "id": "5sl002wc21nl",
        "outputId": "4948090b-9709-4ded-ddc1-5297e26adf4b"
      },
      "execution_count": null,
      "outputs": [
        {
          "output_type": "display_data",
          "data": {
            "text/plain": [
              "<Figure size 1200x900 with 1 Axes>"
            ],
            "image/png": "[encoded data removed]"
          },
          "metadata": {}
        }
      ]
    },
    {
      "cell_type": "markdown",
      "source": [
        "O gráfico da projeção PCA mostra claramente a formação de um cluster denso para as transações normais e agrupamentos distintos para as transações de fraude. Existe uma separação visual clara entre a maioria dos pontos da classe \"Normal\" e da classe \"Fraude\". Isso indica que o VAE aprendeu uma representação interna que diferencia as duas classes, mesmo tendo sido treinado apenas com dados normais."
      ],
      "metadata": {
        "id": "IsO1wt0q5Yf9"
      }
    }
  ]
}